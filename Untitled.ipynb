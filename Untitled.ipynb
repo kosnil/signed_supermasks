{
 "cells": [
  {
   "cell_type": "markdown",
   "metadata": {},
   "source": [
    "# Sudoku Solver"
   ]
  },
  {
   "cell_type": "markdown",
   "metadata": {},
   "source": [
    "Imports"
   ]
  },
  {
   "cell_type": "code",
   "execution_count": 1,
   "metadata": {},
   "outputs": [],
   "source": [
    "import numpy as np"
   ]
  },
  {
   "cell_type": "code",
   "execution_count": 234,
   "metadata": {},
   "outputs": [
    {
     "name": "stdout",
     "output_type": "stream",
     "text": [
      "2.1 µs ± 299 ns per loop (mean ± std. dev. of 7 runs, 100000 loops each)\n"
     ]
    }
   ],
   "source": [
    "%timeit np.array([1,2,3,4,5,6,7,8,9])"
   ]
  },
  {
   "cell_type": "code",
   "execution_count": 235,
   "metadata": {},
   "outputs": [
    {
     "name": "stdout",
     "output_type": "stream",
     "text": [
      "1.05 µs ± 108 ns per loop (mean ± std. dev. of 7 runs, 1000000 loops each)\n"
     ]
    }
   ],
   "source": [
    "%timeit np.arange(1,10)"
   ]
  },
  {
   "cell_type": "code",
   "execution_count": 229,
   "metadata": {},
   "outputs": [],
   "source": [
    "UNIQUES = np.array([1,2,3,4,5,6,7,8,9])"
   ]
  },
  {
   "cell_type": "code",
   "execution_count": 167,
   "metadata": {},
   "outputs": [
    {
     "data": {
      "text/plain": [
       "array([[0., 0., 0., 0., 4., 0., 0., 0., 0.],\n",
       "       [1., 2., 0., 0., 0., 0., 0., 7., 3.],\n",
       "       [0., 3., 0., 0., 0., 8., 0., 0., 0.],\n",
       "       [0., 0., 4., 0., 0., 0., 6., 0., 0.],\n",
       "       [0., 0., 0., 2., 0., 3., 0., 0., 0.],\n",
       "       [0., 0., 0., 0., 0., 0., 0., 0., 0.],\n",
       "       [0., 0., 5., 0., 0., 0., 0., 0., 0.],\n",
       "       [0., 0., 6., 0., 9., 0., 0., 5., 0.],\n",
       "       [0., 7., 0., 0., 0., 0., 0., 2., 0.]])"
      ]
     },
     "execution_count": 167,
     "metadata": {},
     "output_type": "execute_result"
    }
   ],
   "source": [
    "test_arr = np.zeros((9,9))\n",
    "test_arr[0,4] = 4\n",
    "test_arr[1,0] = 1\n",
    "test_arr[1,1] = 2\n",
    "test_arr[1,-2] = 7\n",
    "test_arr[1,-1] = 3\n",
    "test_arr[2,1] = 3\n",
    "test_arr[2,5] = 8\n",
    "test_arr[3,2] = 4\n",
    "test_arr[3,6] = 6\n",
    "test_arr[4,3] = 2\n",
    "test_arr[4,5] = 3\n",
    "test_arr[6,2] = 5\n",
    "test_arr[7,2] = 6\n",
    "test_arr[7,4] = 9\n",
    "test_arr[7,7] = 5\n",
    "test_arr[8,1] = 7\n",
    "test_arr[8,-2] = 2\n",
    "test_arr"
   ]
  },
  {
   "cell_type": "code",
   "execution_count": 18,
   "metadata": {},
   "outputs": [
    {
     "data": {
      "text/plain": [
       "array([[0., 0., 0.],\n",
       "       [2., 0., 3.],\n",
       "       [0., 0., 0.]])"
      ]
     },
     "execution_count": 18,
     "metadata": {},
     "output_type": "execute_result"
    }
   ],
   "source": [
    "test_arr[3:6,3:6]"
   ]
  },
  {
   "cell_type": "code",
   "execution_count": 7,
   "metadata": {},
   "outputs": [
    {
     "data": {
      "text/plain": [
       "array([ 1., 12., 15.,  2., 13., 11.,  6., 14.,  3.])"
      ]
     },
     "execution_count": 7,
     "metadata": {},
     "output_type": "execute_result"
    }
   ],
   "source": [
    "np.sum(test_arr, axis=0)"
   ]
  },
  {
   "cell_type": "code",
   "execution_count": 225,
   "metadata": {},
   "outputs": [
    {
     "data": {
      "text/plain": [
       "False"
      ]
     },
     "execution_count": 225,
     "metadata": {},
     "output_type": "execute_result"
    }
   ],
   "source": [
    "1 in np.unique(test_arr[0])"
   ]
  },
  {
   "cell_type": "code",
   "execution_count": 223,
   "metadata": {},
   "outputs": [
    {
     "data": {
      "text/plain": [
       "True"
      ]
     },
     "execution_count": 223,
     "metadata": {},
     "output_type": "execute_result"
    }
   ],
   "source": [
    "np.equal(np.ones(10), 1).all()"
   ]
  },
  {
   "cell_type": "code",
   "execution_count": 11,
   "metadata": {},
   "outputs": [
    {
     "data": {
      "text/plain": [
       "array([1, 2, 3, 4, 5, 6, 7, 8, 9])"
      ]
     },
     "execution_count": 11,
     "metadata": {},
     "output_type": "execute_result"
    }
   ],
   "source": [
    "np.arange(1,10)"
   ]
  },
  {
   "cell_type": "code",
   "execution_count": 9,
   "metadata": {},
   "outputs": [
    {
     "data": {
      "text/plain": [
       "45"
      ]
     },
     "execution_count": 9,
     "metadata": {},
     "output_type": "execute_result"
    }
   ],
   "source": [
    "np.sum(np.arange(0,10))"
   ]
  },
  {
   "cell_type": "code",
   "execution_count": 266,
   "metadata": {},
   "outputs": [
    {
     "data": {
      "text/plain": [
       "45"
      ]
     },
     "execution_count": 266,
     "metadata": {},
     "output_type": "execute_result"
    }
   ],
   "source": [
    "np.arange(1,10).sum()"
   ]
  },
  {
   "cell_type": "code",
   "execution_count": 268,
   "metadata": {},
   "outputs": [],
   "source": [
    "def check_vec_constraint(vec):\n",
    "    UNIQUES = np.arange(1,10)\n",
    "    if vec.sum() > 45:\n",
    "        return False\n",
    "    vec_uniques, vec_uniques_c = np.unique(vec, return_counts=True)\n",
    "    \n",
    "    if 0 in vec_uniques:\n",
    "        if np.equal(vec_uniques_c[1:],1).all() is False:\n",
    "            return False\n",
    "        else:\n",
    "            return True\n",
    "    else:\n",
    "        if np.equal(vec_uniques_c,1).all() is False:\n",
    "            return False\n",
    "        else:\n",
    "            return True"
   ]
  },
  {
   "cell_type": "code",
   "execution_count": 275,
   "metadata": {},
   "outputs": [],
   "source": [
    "def check_quadrant_constraint(submatrix):\n",
    "    UNIQUES = np.arange(1,10)\n",
    "    if submatrix.sum() > 45:\n",
    "        return False\n",
    "    \n",
    "    vec_uniques, vec_uniques_c = np.unique(submatrix, return_counts=True)\n",
    "    \n",
    "    if 0 in vec_uniques:\n",
    "        if np.equal(vec_uniques_c[1:],1).all() is False:\n",
    "            return False\n",
    "        else:\n",
    "            return True\n",
    "    else:\n",
    "        if np.equal(vec_uniques_c,1).all() is False:\n",
    "            return False\n",
    "        else:\n",
    "            return True"
   ]
  },
  {
   "cell_type": "code",
   "execution_count": 243,
   "metadata": {},
   "outputs": [],
   "source": [
    "def check_vec_constraint(vec, axis): #axis == 0: row, axis == 1 col\n",
    "    UNIQUES = np.arange(1,10)\n",
    "    if np.sum(vec, axis=0) <= 45:\n",
    "        vec_uniques, vec_uniques_c = np.unique(vec, return_counts=True)\n",
    "        \n",
    "        print(vec_uniques)\n",
    "        if np.equal(vec_uniques_c,1).all() is True:\n",
    "            if vec_uniques.shape[0] is 9 and np.equal(vec_uniques,UNIQUES) is True:\n",
    "                return True\n",
    "            return True\n",
    "        elif 0 in vec_uniques:\n",
    "            return True\n",
    "        else:\n",
    "            return False\n",
    "    else:\n",
    "        return False"
   ]
  },
  {
   "cell_type": "code",
   "execution_count": 259,
   "metadata": {},
   "outputs": [],
   "source": [
    "def check_quadrant_constraint(submatrix):\n",
    "    UNIQUES = np.arange(1,10)\n",
    "    if submatrix.sum() <= 45:\n",
    "        vec_uniques, vec_uniques_c = np.unique(submatrix, return_counts=True)\n",
    "        if np.equal(vec_uniques_c,1).all() is True:\n",
    "            return True\n",
    "        #if np.equal(np.unique(submatrix), UNIQUES):\n",
    "        #    return True\n",
    "        elif 0 in vec_uniques:\n",
    "            return True\n",
    "        else:\n",
    "            return False\n",
    "    else:\n",
    "        return False"
   ]
  },
  {
   "cell_type": "code",
   "execution_count": 79,
   "metadata": {},
   "outputs": [],
   "source": [
    "a = np.array(np.where(test_arr != 0)).T"
   ]
  },
  {
   "cell_type": "code",
   "execution_count": 85,
   "metadata": {},
   "outputs": [
    {
     "data": {
      "text/plain": [
       "array([[0, 4],\n",
       "       [1, 0],\n",
       "       [1, 1],\n",
       "       [1, 7],\n",
       "       [1, 8],\n",
       "       [2, 1],\n",
       "       [2, 5],\n",
       "       [3, 2],\n",
       "       [3, 6],\n",
       "       [4, 3],\n",
       "       [4, 5],\n",
       "       [6, 2],\n",
       "       [7, 2],\n",
       "       [7, 4],\n",
       "       [7, 7],\n",
       "       [8, 1],\n",
       "       [8, 7]], dtype=int64)"
      ]
     },
     "execution_count": 85,
     "metadata": {},
     "output_type": "execute_result"
    }
   ],
   "source": [
    "a"
   ]
  },
  {
   "cell_type": "code",
   "execution_count": 103,
   "metadata": {},
   "outputs": [
    {
     "data": {
      "text/plain": [
       "(array([0, 1, 1, 1, 1, 2, 2, 3, 3, 4, 4, 6, 7, 7, 7, 8, 8], dtype=int64),\n",
       " array([4, 0, 1, 7, 8, 1, 5, 2, 6, 3, 5, 2, 2, 4, 7, 1, 7], dtype=int64))"
      ]
     },
     "execution_count": 103,
     "metadata": {},
     "output_type": "execute_result"
    }
   ],
   "source": [
    "np.where(test_arr != 0)"
   ]
  },
  {
   "cell_type": "code",
   "execution_count": 115,
   "metadata": {},
   "outputs": [],
   "source": [
    "a = np.array(np.where(test_arr == 0))"
   ]
  },
  {
   "cell_type": "code",
   "execution_count": 127,
   "metadata": {},
   "outputs": [
    {
     "name": "stdout",
     "output_type": "stream",
     "text": [
      "26.3 µs ± 1.7 µs per loop (mean ± std. dev. of 7 runs, 10000 loops each)\n"
     ]
    }
   ],
   "source": [
    "%timeit np.dstack(a).reshape(np.dstack(a).shape[1], np.dstack(a).shape[2])"
   ]
  },
  {
   "cell_type": "code",
   "execution_count": 134,
   "metadata": {},
   "outputs": [
    {
     "data": {
      "text/plain": [
       "array([[1., 2., 0., 0., 0., 0., 0., 7., 3.],\n",
       "       [1., 2., 0., 0., 0., 0., 0., 7., 3.]])"
      ]
     },
     "execution_count": 134,
     "metadata": {},
     "output_type": "execute_result"
    }
   ],
   "source": [
    "test_arr[[1,1]]"
   ]
  },
  {
   "cell_type": "code",
   "execution_count": 139,
   "metadata": {},
   "outputs": [
    {
     "data": {
      "text/plain": [
       "array([0., 1., 0., 0., 0., 0., 0., 0., 0.])"
      ]
     },
     "execution_count": 139,
     "metadata": {},
     "output_type": "execute_result"
    }
   ],
   "source": [
    "test_arr[:,0]"
   ]
  },
  {
   "cell_type": "code",
   "execution_count": 143,
   "metadata": {},
   "outputs": [
    {
     "data": {
      "text/plain": [
       "1"
      ]
     },
     "execution_count": 143,
     "metadata": {},
     "output_type": "execute_result"
    }
   ],
   "source": [
    "5 // 3"
   ]
  },
  {
   "cell_type": "code",
   "execution_count": 144,
   "metadata": {},
   "outputs": [
    {
     "data": {
      "text/plain": [
       "0"
      ]
     },
     "execution_count": 144,
     "metadata": {},
     "output_type": "execute_result"
    }
   ],
   "source": [
    "2 // 3"
   ]
  },
  {
   "cell_type": "code",
   "execution_count": 272,
   "metadata": {},
   "outputs": [],
   "source": [
    "def check_all(sudoku, field):\n",
    "    \n",
    "    sub_row = field[0] // 3\n",
    "    sub_col = field[1] // 3\n",
    "    \n",
    "    if sub_row is 0:\n",
    "        if sub_col is 0:\n",
    "            sub_matrix = sudoku[0:3, 0:3]\n",
    "        elif sub_col is 1:\n",
    "            sub_matrix = sudoku[0:3, 3:6]\n",
    "        else:\n",
    "            sub_matrix = sudoku[0:3, 6:9]\n",
    "    elif sub_row is 1:\n",
    "        if sub_col is 0:\n",
    "            sub_matrix = sudoku[3:6, 0:3]\n",
    "        elif sub_col is 1:\n",
    "            sub_matrix = sudoku[3:6, 3:6]\n",
    "        else:\n",
    "            sub_matrix = sudoku[3:6, 6:9]\n",
    "    else:\n",
    "        if sub_col is 0:\n",
    "            sub_matrix = sudoku[6:9, 0:3]\n",
    "        elif sub_col is 1:\n",
    "            sub_matrix = sudoku[6:9, 3:6]\n",
    "        else:\n",
    "            sub_matrix = sudoku[6:9, 6:9]\n",
    "    \n",
    "    row_checker = check_vec_constraint(sudoku[field[0],:])\n",
    "    col_checker = check_vec_constraint(sudoku[:,field[0]])\n",
    "    quadrant_checker = check_quadrant_constraint(sub_matrix)\n",
    "    \n",
    "    print(f\"Row checker: {row_checker}\")\n",
    "    print(f\"Col checker: {col_checker}\")\n",
    "    print(f\"Quadrant checker: {quadrant_checker}\")\n",
    "    \n",
    "    if (row_checker is True and \n",
    "        col_checker is True and\n",
    "        quadrant_checker is True):\n",
    "        print(\"condition true\")\n",
    "        return True\n",
    "    else:\n",
    "        print(\"condition false\")\n",
    "        return False"
   ]
  },
  {
   "cell_type": "code",
   "execution_count": 265,
   "metadata": {},
   "outputs": [
    {
     "data": {
      "text/plain": [
       "array([[0., 0., 0., 0., 4., 0., 0., 0., 0.],\n",
       "       [1., 2., 0., 0., 0., 0., 0., 7., 3.],\n",
       "       [0., 3., 0., 0., 0., 8., 0., 0., 0.],\n",
       "       [0., 0., 4., 0., 0., 0., 6., 0., 0.],\n",
       "       [0., 0., 0., 2., 0., 3., 0., 0., 0.],\n",
       "       [0., 0., 0., 0., 0., 0., 0., 0., 0.],\n",
       "       [0., 0., 5., 0., 0., 0., 0., 0., 0.],\n",
       "       [0., 0., 6., 0., 9., 0., 0., 5., 0.],\n",
       "       [0., 7., 0., 0., 0., 0., 0., 2., 0.]])"
      ]
     },
     "execution_count": 265,
     "metadata": {},
     "output_type": "execute_result"
    }
   ],
   "source": [
    "test_arr"
   ]
  },
  {
   "cell_type": "code",
   "execution_count": 163,
   "metadata": {},
   "outputs": [],
   "source": [
    "playable = np.array(np.where(test_arr == 0))\n",
    "\n",
    "playable_ = np.dstack(playable).reshape(np.dstack(playable).shape[1], np.dstack(playable).shape[2])"
   ]
  },
  {
   "cell_type": "code",
   "execution_count": 193,
   "metadata": {},
   "outputs": [
    {
     "ename": "SyntaxError",
     "evalue": "invalid syntax (<ipython-input-193-6154e57c4e6e>, line 1)",
     "output_type": "error",
     "traceback": [
      "\u001b[1;36m  File \u001b[1;32m\"<ipython-input-193-6154e57c4e6e>\"\u001b[1;36m, line \u001b[1;32m1\u001b[0m\n\u001b[1;33m    test_arr[*playable_[0]]\u001b[0m\n\u001b[1;37m             ^\u001b[0m\n\u001b[1;31mSyntaxError\u001b[0m\u001b[1;31m:\u001b[0m invalid syntax\n"
     ]
    }
   ],
   "source": [
    "test_arr[playable_[0]]"
   ]
  },
  {
   "cell_type": "code",
   "execution_count": 189,
   "metadata": {},
   "outputs": [
    {
     "data": {
      "text/plain": [
       "0.0"
      ]
     },
     "execution_count": 189,
     "metadata": {},
     "output_type": "execute_result"
    }
   ],
   "source": [
    "test_arr[playable_[0][0],playable_[0][1]]"
   ]
  },
  {
   "cell_type": "code",
   "execution_count": 273,
   "metadata": {},
   "outputs": [],
   "source": [
    "def solver(sudoku):\n",
    "    \n",
    "    playable = np.array(np.where(sudoku == 0))\n",
    "    \n",
    "    playable = np.dstack(playable).reshape(np.dstack(playable).shape[1], np.dstack(playable).shape[2])\n",
    "    playable_len = playable.shape[0]\n",
    "    playable_idx = 0\n",
    "    \n",
    "    while playable_idx < playable_len:\n",
    "        \n",
    "        print(playable_idx)\n",
    "        \n",
    "        current_field = playable[playable_idx]\n",
    "        \n",
    "        print(f\"current_value: {sudoku[current_field[0],current_field[1]]}\")\n",
    "        \n",
    "        if sudoku[current_field[0],current_field[1]] == 0:\n",
    "        \n",
    "            current_value = 1\n",
    "\n",
    "            sudoku[current_field[0],current_field[1]] = current_value\n",
    "            \n",
    "            print(\"Checking for validility\")\n",
    "            if check_all(sudoku, current_field) is True:\n",
    "                print(\"Check all is true when current_value == 1\")\n",
    "                playable_idx += 1\n",
    "            else:\n",
    "                print(\"check was false\")\n",
    "                flag = False\n",
    "                while current_value < 10 or flag is False:\n",
    "                    print(f\"Current value (in while loop): {current_value}\")\n",
    "                    current_value += 1\n",
    "                    sudoku[current_field[0],current_field[1]] = current_value\n",
    "                    if check_all(sudoku, current_field) is True:\n",
    "                        print(f\"True at {current_value}\")\n",
    "                        playable_idx += 1\n",
    "                        flag = True\n",
    "                        break\n",
    "                    if current_value == 9:\n",
    "                        break\n",
    "                if flag is False and current_value >= 9:\n",
    "                    print(\"Go back\")\n",
    "                    sudoku[current_field[0],current_field[1]] = 0\n",
    "                    playable_idx -= 1\n",
    "        \n",
    "        else:\n",
    "            print(\"Not zero\")\n",
    "            if sudoku[current_field[0],current_field[1]] < 10:\n",
    "                sudoku[current_field[0],current_field[1]] += 1\n",
    "            playable_idx += 1\n",
    "            \n",
    "    return sudoku\n",
    "            "
   ]
  },
  {
   "cell_type": "code",
   "execution_count": 276,
   "metadata": {
    "scrolled": true
   },
   "outputs": [
    {
     "name": "stdout",
     "output_type": "stream",
     "text": [
      "0\n",
      "current_value: 0.0\n",
      "Checking for validility\n",
      "Row checker: True\n",
      "Col checker: True\n",
      "Quadrant checker: True\n",
      "condition true\n",
      "Check all is true when current_value == 1\n",
      "1\n",
      "current_value: 0.0\n",
      "Checking for validility\n",
      "Row checker: True\n",
      "Col checker: True\n",
      "Quadrant checker: True\n",
      "condition true\n",
      "Check all is true when current_value == 1\n",
      "2\n",
      "current_value: 0.0\n",
      "Checking for validility\n",
      "Row checker: True\n",
      "Col checker: True\n",
      "Quadrant checker: True\n",
      "condition true\n",
      "Check all is true when current_value == 1\n",
      "3\n",
      "current_value: 0.0\n",
      "Checking for validility\n",
      "Row checker: True\n",
      "Col checker: True\n",
      "Quadrant checker: True\n",
      "condition true\n",
      "Check all is true when current_value == 1\n",
      "4\n",
      "current_value: 0.0\n",
      "Checking for validility\n",
      "Row checker: True\n",
      "Col checker: True\n",
      "Quadrant checker: True\n",
      "condition true\n",
      "Check all is true when current_value == 1\n",
      "5\n",
      "current_value: 0.0\n",
      "Checking for validility\n",
      "Row checker: True\n",
      "Col checker: True\n",
      "Quadrant checker: True\n",
      "condition true\n",
      "Check all is true when current_value == 1\n",
      "6\n",
      "current_value: 0.0\n",
      "Checking for validility\n",
      "Row checker: True\n",
      "Col checker: True\n",
      "Quadrant checker: True\n",
      "condition true\n",
      "Check all is true when current_value == 1\n",
      "7\n",
      "current_value: 0.0\n",
      "Checking for validility\n",
      "Row checker: True\n",
      "Col checker: True\n",
      "Quadrant checker: True\n",
      "condition true\n",
      "Check all is true when current_value == 1\n",
      "8\n",
      "current_value: 0.0\n",
      "Checking for validility\n",
      "Row checker: True\n",
      "Col checker: True\n",
      "Quadrant checker: True\n",
      "condition true\n",
      "Check all is true when current_value == 1\n",
      "9\n",
      "current_value: 0.0\n",
      "Checking for validility\n",
      "Row checker: True\n",
      "Col checker: True\n",
      "Quadrant checker: True\n",
      "condition true\n",
      "Check all is true when current_value == 1\n",
      "10\n",
      "current_value: 0.0\n",
      "Checking for validility\n",
      "Row checker: True\n",
      "Col checker: True\n",
      "Quadrant checker: True\n",
      "condition true\n",
      "Check all is true when current_value == 1\n",
      "11\n",
      "current_value: 0.0\n",
      "Checking for validility\n",
      "Row checker: True\n",
      "Col checker: True\n",
      "Quadrant checker: True\n",
      "condition true\n",
      "Check all is true when current_value == 1\n",
      "12\n",
      "current_value: 0.0\n",
      "Checking for validility\n",
      "Row checker: True\n",
      "Col checker: True\n",
      "Quadrant checker: True\n",
      "condition true\n",
      "Check all is true when current_value == 1\n",
      "13\n",
      "current_value: 0.0\n",
      "Checking for validility\n",
      "Row checker: True\n",
      "Col checker: True\n",
      "Quadrant checker: True\n",
      "condition true\n",
      "Check all is true when current_value == 1\n",
      "14\n",
      "current_value: 0.0\n",
      "Checking for validility\n",
      "Row checker: True\n",
      "Col checker: True\n",
      "Quadrant checker: True\n",
      "condition true\n",
      "Check all is true when current_value == 1\n",
      "15\n",
      "current_value: 0.0\n",
      "Checking for validility\n",
      "Row checker: True\n",
      "Col checker: True\n",
      "Quadrant checker: True\n",
      "condition true\n",
      "Check all is true when current_value == 1\n",
      "16\n",
      "current_value: 0.0\n",
      "Checking for validility\n",
      "Row checker: True\n",
      "Col checker: True\n",
      "Quadrant checker: True\n",
      "condition true\n",
      "Check all is true when current_value == 1\n",
      "17\n",
      "current_value: 0.0\n",
      "Checking for validility\n",
      "Row checker: True\n",
      "Col checker: True\n",
      "Quadrant checker: True\n",
      "condition true\n",
      "Check all is true when current_value == 1\n",
      "18\n",
      "current_value: 0.0\n",
      "Checking for validility\n",
      "Row checker: True\n",
      "Col checker: True\n",
      "Quadrant checker: True\n",
      "condition true\n",
      "Check all is true when current_value == 1\n",
      "19\n",
      "current_value: 0.0\n",
      "Checking for validility\n",
      "Row checker: True\n",
      "Col checker: True\n",
      "Quadrant checker: True\n",
      "condition true\n",
      "Check all is true when current_value == 1\n",
      "20\n",
      "current_value: 0.0\n",
      "Checking for validility\n",
      "Row checker: True\n",
      "Col checker: True\n",
      "Quadrant checker: True\n",
      "condition true\n",
      "Check all is true when current_value == 1\n",
      "21\n",
      "current_value: 0.0\n",
      "Checking for validility\n",
      "Row checker: True\n",
      "Col checker: True\n",
      "Quadrant checker: True\n",
      "condition true\n",
      "Check all is true when current_value == 1\n",
      "22\n",
      "current_value: 0.0\n",
      "Checking for validility\n",
      "Row checker: True\n",
      "Col checker: True\n",
      "Quadrant checker: True\n",
      "condition true\n",
      "Check all is true when current_value == 1\n",
      "23\n",
      "current_value: 0.0\n",
      "Checking for validility\n",
      "Row checker: True\n",
      "Col checker: True\n",
      "Quadrant checker: True\n",
      "condition true\n",
      "Check all is true when current_value == 1\n",
      "24\n",
      "current_value: 0.0\n",
      "Checking for validility\n",
      "Row checker: True\n",
      "Col checker: True\n",
      "Quadrant checker: True\n",
      "condition true\n",
      "Check all is true when current_value == 1\n",
      "25\n",
      "current_value: 0.0\n",
      "Checking for validility\n",
      "Row checker: True\n",
      "Col checker: True\n",
      "Quadrant checker: True\n",
      "condition true\n",
      "Check all is true when current_value == 1\n",
      "26\n",
      "current_value: 0.0\n",
      "Checking for validility\n",
      "Row checker: True\n",
      "Col checker: True\n",
      "Quadrant checker: True\n",
      "condition true\n",
      "Check all is true when current_value == 1\n",
      "27\n",
      "current_value: 0.0\n",
      "Checking for validility\n",
      "Row checker: True\n",
      "Col checker: True\n",
      "Quadrant checker: True\n",
      "condition true\n",
      "Check all is true when current_value == 1\n",
      "28\n",
      "current_value: 0.0\n",
      "Checking for validility\n",
      "Row checker: True\n",
      "Col checker: True\n",
      "Quadrant checker: True\n",
      "condition true\n",
      "Check all is true when current_value == 1\n",
      "29\n",
      "current_value: 0.0\n",
      "Checking for validility\n",
      "Row checker: True\n",
      "Col checker: True\n",
      "Quadrant checker: True\n",
      "condition true\n",
      "Check all is true when current_value == 1\n",
      "30\n",
      "current_value: 0.0\n",
      "Checking for validility\n",
      "Row checker: True\n",
      "Col checker: True\n",
      "Quadrant checker: True\n",
      "condition true\n",
      "Check all is true when current_value == 1\n",
      "31\n",
      "current_value: 0.0\n",
      "Checking for validility\n",
      "Row checker: True\n",
      "Col checker: True\n",
      "Quadrant checker: True\n",
      "condition true\n",
      "Check all is true when current_value == 1\n",
      "32\n",
      "current_value: 0.0\n",
      "Checking for validility\n",
      "Row checker: True\n",
      "Col checker: True\n",
      "Quadrant checker: True\n",
      "condition true\n",
      "Check all is true when current_value == 1\n",
      "33\n",
      "current_value: 0.0\n",
      "Checking for validility\n",
      "Row checker: True\n",
      "Col checker: True\n",
      "Quadrant checker: True\n",
      "condition true\n",
      "Check all is true when current_value == 1\n",
      "34\n",
      "current_value: 0.0\n",
      "Checking for validility\n",
      "Row checker: True\n",
      "Col checker: True\n",
      "Quadrant checker: True\n",
      "condition true\n",
      "Check all is true when current_value == 1\n",
      "35\n",
      "current_value: 0.0\n",
      "Checking for validility\n",
      "Row checker: True\n",
      "Col checker: True\n",
      "Quadrant checker: True\n",
      "condition true\n",
      "Check all is true when current_value == 1\n",
      "36\n",
      "current_value: 0.0\n",
      "Checking for validility\n",
      "Row checker: True\n",
      "Col checker: True\n",
      "Quadrant checker: True\n",
      "condition true\n",
      "Check all is true when current_value == 1\n",
      "37\n",
      "current_value: 0.0\n",
      "Checking for validility\n",
      "Row checker: True\n",
      "Col checker: True\n",
      "Quadrant checker: True\n",
      "condition true\n",
      "Check all is true when current_value == 1\n",
      "38\n",
      "current_value: 0.0\n",
      "Checking for validility\n",
      "Row checker: True\n",
      "Col checker: True\n",
      "Quadrant checker: True\n",
      "condition true\n",
      "Check all is true when current_value == 1\n",
      "39\n",
      "current_value: 0.0\n",
      "Checking for validility\n",
      "Row checker: True\n",
      "Col checker: True\n",
      "Quadrant checker: True\n",
      "condition true\n",
      "Check all is true when current_value == 1\n",
      "40\n",
      "current_value: 0.0\n",
      "Checking for validility\n",
      "Row checker: True\n",
      "Col checker: True\n",
      "Quadrant checker: True\n",
      "condition true\n",
      "Check all is true when current_value == 1\n",
      "41\n",
      "current_value: 0.0\n",
      "Checking for validility\n",
      "Row checker: True\n",
      "Col checker: True\n",
      "Quadrant checker: True\n",
      "condition true\n",
      "Check all is true when current_value == 1\n",
      "42\n",
      "current_value: 0.0\n",
      "Checking for validility\n",
      "Row checker: True\n",
      "Col checker: True\n",
      "Quadrant checker: True\n",
      "condition true\n",
      "Check all is true when current_value == 1\n",
      "43\n",
      "current_value: 0.0\n",
      "Checking for validility\n",
      "Row checker: True\n",
      "Col checker: True\n",
      "Quadrant checker: True\n",
      "condition true\n",
      "Check all is true when current_value == 1\n",
      "44\n",
      "current_value: 0.0\n",
      "Checking for validility\n",
      "Row checker: True\n",
      "Col checker: True\n",
      "Quadrant checker: True\n",
      "condition true\n",
      "Check all is true when current_value == 1\n",
      "45\n",
      "current_value: 0.0\n",
      "Checking for validility\n",
      "Row checker: True\n",
      "Col checker: True\n",
      "Quadrant checker: True\n",
      "condition true\n",
      "Check all is true when current_value == 1\n",
      "46\n",
      "current_value: 0.0\n",
      "Checking for validility\n",
      "Row checker: True\n",
      "Col checker: True\n",
      "Quadrant checker: True\n",
      "condition true\n",
      "Check all is true when current_value == 1\n",
      "47\n",
      "current_value: 0.0\n",
      "Checking for validility\n",
      "Row checker: True\n",
      "Col checker: True\n",
      "Quadrant checker: True\n",
      "condition true\n",
      "Check all is true when current_value == 1\n",
      "48\n",
      "current_value: 0.0\n",
      "Checking for validility\n",
      "Row checker: True\n",
      "Col checker: True\n",
      "Quadrant checker: True\n",
      "condition true\n",
      "Check all is true when current_value == 1\n",
      "49\n",
      "current_value: 0.0\n",
      "Checking for validility\n",
      "Row checker: True\n",
      "Col checker: True\n",
      "Quadrant checker: True\n",
      "condition true\n",
      "Check all is true when current_value == 1\n",
      "50\n",
      "current_value: 0.0\n",
      "Checking for validility\n",
      "Row checker: True\n",
      "Col checker: True\n",
      "Quadrant checker: True\n",
      "condition true\n",
      "Check all is true when current_value == 1\n",
      "51\n",
      "current_value: 0.0\n",
      "Checking for validility\n",
      "Row checker: True\n",
      "Col checker: True\n",
      "Quadrant checker: True\n",
      "condition true\n",
      "Check all is true when current_value == 1\n",
      "52\n",
      "current_value: 0.0\n",
      "Checking for validility\n",
      "Row checker: True\n",
      "Col checker: True\n",
      "Quadrant checker: True\n",
      "condition true\n",
      "Check all is true when current_value == 1\n",
      "53\n",
      "current_value: 0.0\n",
      "Checking for validility\n",
      "Row checker: True\n",
      "Col checker: True\n",
      "Quadrant checker: True\n",
      "condition true\n",
      "Check all is true when current_value == 1\n",
      "54\n",
      "current_value: 0.0\n",
      "Checking for validility\n",
      "Row checker: True\n",
      "Col checker: True\n",
      "Quadrant checker: True\n",
      "condition true\n",
      "Check all is true when current_value == 1\n",
      "55\n",
      "current_value: 0.0\n",
      "Checking for validility\n",
      "Row checker: True\n",
      "Col checker: True\n",
      "Quadrant checker: True\n",
      "condition true\n",
      "Check all is true when current_value == 1\n",
      "56\n",
      "current_value: 0.0\n",
      "Checking for validility\n",
      "Row checker: True\n",
      "Col checker: True\n",
      "Quadrant checker: True\n",
      "condition true\n",
      "Check all is true when current_value == 1\n",
      "57\n",
      "current_value: 0.0\n",
      "Checking for validility\n",
      "Row checker: True\n",
      "Col checker: True\n",
      "Quadrant checker: True\n",
      "condition true\n",
      "Check all is true when current_value == 1\n",
      "58\n",
      "current_value: 0.0\n",
      "Checking for validility\n",
      "Row checker: True\n",
      "Col checker: True\n",
      "Quadrant checker: True\n",
      "condition true\n",
      "Check all is true when current_value == 1\n",
      "59\n",
      "current_value: 0.0\n",
      "Checking for validility\n",
      "Row checker: True\n",
      "Col checker: True\n",
      "Quadrant checker: True\n",
      "condition true\n",
      "Check all is true when current_value == 1\n",
      "60\n",
      "current_value: 0.0\n",
      "Checking for validility\n",
      "Row checker: True\n",
      "Col checker: True\n",
      "Quadrant checker: True\n",
      "condition true\n",
      "Check all is true when current_value == 1\n",
      "61\n",
      "current_value: 0.0\n",
      "Checking for validility\n",
      "Row checker: True\n",
      "Col checker: True\n",
      "Quadrant checker: True\n",
      "condition true\n",
      "Check all is true when current_value == 1\n",
      "62\n",
      "current_value: 0.0\n",
      "Checking for validility\n",
      "Row checker: True\n",
      "Col checker: True\n",
      "Quadrant checker: True\n",
      "condition true\n",
      "Check all is true when current_value == 1\n",
      "63\n",
      "current_value: 0.0\n",
      "Checking for validility\n",
      "Row checker: True\n",
      "Col checker: True\n",
      "Quadrant checker: True\n",
      "condition true\n",
      "Check all is true when current_value == 1\n"
     ]
    },
    {
     "data": {
      "text/plain": [
       "array([[1., 1., 1., 1., 4., 1., 1., 1., 1.],\n",
       "       [1., 2., 1., 1., 1., 1., 1., 7., 3.],\n",
       "       [1., 3., 1., 1., 1., 8., 1., 1., 1.],\n",
       "       [1., 1., 4., 1., 1., 1., 6., 1., 1.],\n",
       "       [1., 1., 1., 2., 1., 3., 1., 1., 1.],\n",
       "       [1., 1., 1., 1., 1., 1., 1., 1., 1.],\n",
       "       [1., 1., 5., 1., 1., 1., 1., 1., 1.],\n",
       "       [1., 1., 6., 1., 9., 1., 1., 5., 1.],\n",
       "       [1., 7., 1., 1., 1., 1., 1., 2., 1.]])"
      ]
     },
     "execution_count": 276,
     "metadata": {},
     "output_type": "execute_result"
    }
   ],
   "source": [
    "solver(test_arr.copy())"
   ]
  },
  {
   "cell_type": "code",
   "execution_count": null,
   "metadata": {},
   "outputs": [],
   "source": []
  }
 ],
 "metadata": {
  "kernelspec": {
   "display_name": "Python 3",
   "language": "python",
   "name": "python3"
  },
  "language_info": {
   "codemirror_mode": {
    "name": "ipython",
    "version": 3
   },
   "file_extension": ".py",
   "mimetype": "text/x-python",
   "name": "python",
   "nbconvert_exporter": "python",
   "pygments_lexer": "ipython3",
   "version": "3.6.10"
  }
 },
 "nbformat": 4,
 "nbformat_minor": 4
}
